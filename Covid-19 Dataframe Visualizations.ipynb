{
 "cells": [
  {
   "cell_type": "markdown",
   "metadata": {},
   "source": [
    "## Markdown Cell -- Probably Table of Contents"
   ]
  },
  {
   "cell_type": "code",
   "execution_count": 36,
   "metadata": {},
   "outputs": [],
   "source": [
    "#import statements\n",
    "\n",
    "import pandas as pd\n",
    "import numpy as np\n",
    "import matplotlib.pyplot as plt\n",
    "import seaborn as sns\n",
    "%matplotlib inline"
   ]
  },
  {
   "cell_type": "code",
   "execution_count": 23,
   "metadata": {},
   "outputs": [
    {
     "data": {
      "text/html": [
       "<div>\n",
       "<style scoped>\n",
       "    .dataframe tbody tr th:only-of-type {\n",
       "        vertical-align: middle;\n",
       "    }\n",
       "\n",
       "    .dataframe tbody tr th {\n",
       "        vertical-align: top;\n",
       "    }\n",
       "\n",
       "    .dataframe thead th {\n",
       "        text-align: right;\n",
       "    }\n",
       "</style>\n",
       "<table border=\"1\" class=\"dataframe\">\n",
       "  <thead>\n",
       "    <tr style=\"text-align: right;\">\n",
       "      <th></th>\n",
       "      <th>cdc_report_dt</th>\n",
       "      <th>pos_spec_dt</th>\n",
       "      <th>onset_dt</th>\n",
       "      <th>current_status</th>\n",
       "      <th>sex</th>\n",
       "      <th>age_group</th>\n",
       "      <th>race_and_ethnicity</th>\n",
       "      <th>hosp_yn</th>\n",
       "      <th>icu_yn</th>\n",
       "      <th>death_yn</th>\n",
       "      <th>medcond_yn</th>\n",
       "    </tr>\n",
       "  </thead>\n",
       "  <tbody>\n",
       "    <tr>\n",
       "      <th>0</th>\n",
       "      <td>2020-11-14</td>\n",
       "      <td>2020-11-10</td>\n",
       "      <td>2020-11-10</td>\n",
       "      <td>Laboratory-confirmed case</td>\n",
       "      <td>Male</td>\n",
       "      <td>10 - 19 Years</td>\n",
       "      <td>Black, Non-Hispanic</td>\n",
       "      <td>No</td>\n",
       "      <td>No</td>\n",
       "      <td>No</td>\n",
       "      <td>No</td>\n",
       "    </tr>\n",
       "    <tr>\n",
       "      <th>1</th>\n",
       "      <td>2020-11-19</td>\n",
       "      <td>2020-11-10</td>\n",
       "      <td>2020-11-09</td>\n",
       "      <td>Laboratory-confirmed case</td>\n",
       "      <td>Male</td>\n",
       "      <td>10 - 19 Years</td>\n",
       "      <td>Black, Non-Hispanic</td>\n",
       "      <td>No</td>\n",
       "      <td>No</td>\n",
       "      <td>No</td>\n",
       "      <td>No</td>\n",
       "    </tr>\n",
       "    <tr>\n",
       "      <th>2</th>\n",
       "      <td>2020-11-13</td>\n",
       "      <td>2020-11-10</td>\n",
       "      <td>2020-11-10</td>\n",
       "      <td>Laboratory-confirmed case</td>\n",
       "      <td>Male</td>\n",
       "      <td>10 - 19 Years</td>\n",
       "      <td>Black, Non-Hispanic</td>\n",
       "      <td>No</td>\n",
       "      <td>No</td>\n",
       "      <td>No</td>\n",
       "      <td>Yes</td>\n",
       "    </tr>\n",
       "    <tr>\n",
       "      <th>3</th>\n",
       "      <td>2020-11-09</td>\n",
       "      <td>2020-11-10</td>\n",
       "      <td>2020-11-09</td>\n",
       "      <td>Laboratory-confirmed case</td>\n",
       "      <td>Male</td>\n",
       "      <td>10 - 19 Years</td>\n",
       "      <td>Black, Non-Hispanic</td>\n",
       "      <td>No</td>\n",
       "      <td>No</td>\n",
       "      <td>No</td>\n",
       "      <td>No</td>\n",
       "    </tr>\n",
       "    <tr>\n",
       "      <th>4</th>\n",
       "      <td>2020-11-06</td>\n",
       "      <td>2020-11-10</td>\n",
       "      <td>2020-11-06</td>\n",
       "      <td>Laboratory-confirmed case</td>\n",
       "      <td>Male</td>\n",
       "      <td>10 - 19 Years</td>\n",
       "      <td>Black, Non-Hispanic</td>\n",
       "      <td>No</td>\n",
       "      <td>No</td>\n",
       "      <td>No</td>\n",
       "      <td>Yes</td>\n",
       "    </tr>\n",
       "  </tbody>\n",
       "</table>\n",
       "</div>"
      ],
      "text/plain": [
       "  cdc_report_dt pos_spec_dt    onset_dt             current_status   sex  \\\n",
       "0    2020-11-14  2020-11-10  2020-11-10  Laboratory-confirmed case  Male   \n",
       "1    2020-11-19  2020-11-10  2020-11-09  Laboratory-confirmed case  Male   \n",
       "2    2020-11-13  2020-11-10  2020-11-10  Laboratory-confirmed case  Male   \n",
       "3    2020-11-09  2020-11-10  2020-11-09  Laboratory-confirmed case  Male   \n",
       "4    2020-11-06  2020-11-10  2020-11-06  Laboratory-confirmed case  Male   \n",
       "\n",
       "       age_group   race_and_ethnicity hosp_yn icu_yn death_yn medcond_yn  \n",
       "0  10 - 19 Years  Black, Non-Hispanic      No     No       No         No  \n",
       "1  10 - 19 Years  Black, Non-Hispanic      No     No       No         No  \n",
       "2  10 - 19 Years  Black, Non-Hispanic      No     No       No        Yes  \n",
       "3  10 - 19 Years  Black, Non-Hispanic      No     No       No         No  \n",
       "4  10 - 19 Years  Black, Non-Hispanic      No     No       No        Yes  "
      ]
     },
     "execution_count": 23,
     "metadata": {},
     "output_type": "execute_result"
    }
   ],
   "source": [
    "#loading dataframe\n",
    "\n",
    "df = pd.read_csv('COVID-19_case_surveillance_wrangled.csv')\n",
    "df.head()"
   ]
  },
  {
   "cell_type": "code",
   "execution_count": 24,
   "metadata": {},
   "outputs": [
    {
     "data": {
      "text/plain": [
       "(294946, 11)"
      ]
     },
     "execution_count": 24,
     "metadata": {},
     "output_type": "execute_result"
    }
   ],
   "source": [
    "#looking at size of dataframe\n",
    "\n",
    "df.shape"
   ]
  },
  {
   "cell_type": "code",
   "execution_count": 25,
   "metadata": {},
   "outputs": [
    {
     "name": "stdout",
     "output_type": "stream",
     "text": [
      "<class 'pandas.core.frame.DataFrame'>\n",
      "RangeIndex: 294946 entries, 0 to 294945\n",
      "Data columns (total 11 columns):\n",
      " #   Column              Non-Null Count   Dtype \n",
      "---  ------              --------------   ----- \n",
      " 0   cdc_report_dt       294946 non-null  object\n",
      " 1   pos_spec_dt         294946 non-null  object\n",
      " 2   onset_dt            294946 non-null  object\n",
      " 3   current_status      294946 non-null  object\n",
      " 4   sex                 294946 non-null  object\n",
      " 5   age_group           294946 non-null  object\n",
      " 6   race_and_ethnicity  294946 non-null  object\n",
      " 7   hosp_yn             294946 non-null  object\n",
      " 8   icu_yn              294946 non-null  object\n",
      " 9   death_yn            294946 non-null  object\n",
      " 10  medcond_yn          294946 non-null  object\n",
      "dtypes: object(11)\n",
      "memory usage: 24.8+ MB\n"
     ]
    }
   ],
   "source": [
    "#examining datatypes\n",
    "\n",
    "df.info()"
   ]
  },
  {
   "cell_type": "markdown",
   "metadata": {},
   "source": [
    "## Explanation of Columns\n",
    "\n",
    "- cdc_report_dt: Date CDC reported\n",
    "    \n",
    "- pos_spec_dt: Date of positive specimen collected\n",
    "    \n",
    "- onset_dt: The start date when person experienced Covid-19 symtoms\n",
    "    \n",
    "- current_status: Laboratory or confirmed case\n",
    "    \n",
    "- sex: sex of person\n",
    "    \n",
    "- age_group: demographic group of patient\n",
    "    \n",
    "- race and ethnicity (combined): race and ethnicity of patient\n",
    "    \n",
    "- hosp_yn: was patient hospitalized\n",
    "    \n",
    "- icu_yn: was patient in ICU\n",
    "    \n",
    "- death_yn: did patient die\n",
    "    \n",
    "- medcond_yn: did patient have underlying conditions"
   ]
  },
  {
   "cell_type": "code",
   "execution_count": 26,
   "metadata": {},
   "outputs": [],
   "source": [
    "#making a copy of dataframe df_wrangle\n",
    "\n",
    "df_viz = df.copy()"
   ]
  },
  {
   "cell_type": "code",
   "execution_count": 27,
   "metadata": {},
   "outputs": [],
   "source": [
    "#converting first three columns to datetime and rest to categorical\n",
    "\n",
    "for count,column in enumerate(df_viz.columns):\n",
    "    if count <=2:\n",
    "        df_viz[column] = pd.to_datetime(df_viz[column])\n",
    "    else:\n",
    "        df_viz[column] = df_viz[column].astype('category')"
   ]
  },
  {
   "cell_type": "code",
   "execution_count": 28,
   "metadata": {},
   "outputs": [
    {
     "name": "stdout",
     "output_type": "stream",
     "text": [
      "<class 'pandas.core.frame.DataFrame'>\n",
      "RangeIndex: 294946 entries, 0 to 294945\n",
      "Data columns (total 11 columns):\n",
      " #   Column              Non-Null Count   Dtype         \n",
      "---  ------              --------------   -----         \n",
      " 0   cdc_report_dt       294946 non-null  datetime64[ns]\n",
      " 1   pos_spec_dt         294946 non-null  datetime64[ns]\n",
      " 2   onset_dt            294946 non-null  datetime64[ns]\n",
      " 3   current_status      294946 non-null  category      \n",
      " 4   sex                 294946 non-null  category      \n",
      " 5   age_group           294946 non-null  category      \n",
      " 6   race_and_ethnicity  294946 non-null  category      \n",
      " 7   hosp_yn             294946 non-null  category      \n",
      " 8   icu_yn              294946 non-null  category      \n",
      " 9   death_yn            294946 non-null  category      \n",
      " 10  medcond_yn          294946 non-null  category      \n",
      "dtypes: category(8), datetime64[ns](3)\n",
      "memory usage: 9.0 MB\n"
     ]
    }
   ],
   "source": [
    "df_viz.info()"
   ]
  },
  {
   "cell_type": "code",
   "execution_count": 29,
   "metadata": {},
   "outputs": [
    {
     "data": {
      "text/plain": [
       "2020-11-17    8616\n",
       "2020-11-10    8287\n",
       "2020-11-04    5517\n",
       "2020-08-09    4599\n",
       "2020-08-20    4456\n",
       "              ... \n",
       "2020-01-17       1\n",
       "2020-02-22       1\n",
       "2020-02-15       1\n",
       "2020-02-08       1\n",
       "2020-01-29       1\n",
       "Name: cdc_report_dt, Length: 292, dtype: int64"
      ]
     },
     "execution_count": 29,
     "metadata": {},
     "output_type": "execute_result"
    }
   ],
   "source": [
    "df_viz['cdc_report_dt'].value_counts()"
   ]
  },
  {
   "cell_type": "code",
   "execution_count": 30,
   "metadata": {},
   "outputs": [
    {
     "data": {
      "text/html": [
       "<div>\n",
       "<style scoped>\n",
       "    .dataframe tbody tr th:only-of-type {\n",
       "        vertical-align: middle;\n",
       "    }\n",
       "\n",
       "    .dataframe tbody tr th {\n",
       "        vertical-align: top;\n",
       "    }\n",
       "\n",
       "    .dataframe thead th {\n",
       "        text-align: right;\n",
       "    }\n",
       "</style>\n",
       "<table border=\"1\" class=\"dataframe\">\n",
       "  <thead>\n",
       "    <tr style=\"text-align: right;\">\n",
       "      <th></th>\n",
       "      <th>cdc_report_dt</th>\n",
       "      <th>pos_spec_dt</th>\n",
       "      <th>onset_dt</th>\n",
       "      <th>current_status</th>\n",
       "      <th>sex</th>\n",
       "      <th>age_group</th>\n",
       "      <th>race_and_ethnicity</th>\n",
       "      <th>hosp_yn</th>\n",
       "      <th>icu_yn</th>\n",
       "      <th>death_yn</th>\n",
       "      <th>medcond_yn</th>\n",
       "    </tr>\n",
       "  </thead>\n",
       "  <tbody>\n",
       "    <tr>\n",
       "      <th>136388</th>\n",
       "      <td>2020-11-19</td>\n",
       "      <td>2020-11-19</td>\n",
       "      <td>2020-11-19</td>\n",
       "      <td>Laboratory-confirmed case</td>\n",
       "      <td>Female</td>\n",
       "      <td>60 - 69 Years</td>\n",
       "      <td>White, Non-Hispanic</td>\n",
       "      <td>Yes</td>\n",
       "      <td>No</td>\n",
       "      <td>No</td>\n",
       "      <td>Yes</td>\n",
       "    </tr>\n",
       "    <tr>\n",
       "      <th>136212</th>\n",
       "      <td>2020-11-19</td>\n",
       "      <td>2020-11-18</td>\n",
       "      <td>2020-11-15</td>\n",
       "      <td>Probable Case</td>\n",
       "      <td>Female</td>\n",
       "      <td>60 - 69 Years</td>\n",
       "      <td>White, Non-Hispanic</td>\n",
       "      <td>No</td>\n",
       "      <td>No</td>\n",
       "      <td>No</td>\n",
       "      <td>Yes</td>\n",
       "    </tr>\n",
       "    <tr>\n",
       "      <th>2193</th>\n",
       "      <td>2020-11-19</td>\n",
       "      <td>2020-11-19</td>\n",
       "      <td>2020-11-19</td>\n",
       "      <td>Laboratory-confirmed case</td>\n",
       "      <td>Male</td>\n",
       "      <td>10 - 19 Years</td>\n",
       "      <td>White, Non-Hispanic</td>\n",
       "      <td>No</td>\n",
       "      <td>No</td>\n",
       "      <td>No</td>\n",
       "      <td>No</td>\n",
       "    </tr>\n",
       "    <tr>\n",
       "      <th>149933</th>\n",
       "      <td>2020-11-19</td>\n",
       "      <td>2020-11-23</td>\n",
       "      <td>2020-11-19</td>\n",
       "      <td>Laboratory-confirmed case</td>\n",
       "      <td>Female</td>\n",
       "      <td>50 - 59 Years</td>\n",
       "      <td>White, Non-Hispanic</td>\n",
       "      <td>No</td>\n",
       "      <td>No</td>\n",
       "      <td>No</td>\n",
       "      <td>Yes</td>\n",
       "    </tr>\n",
       "    <tr>\n",
       "      <th>2195</th>\n",
       "      <td>2020-11-19</td>\n",
       "      <td>2020-11-19</td>\n",
       "      <td>2020-11-19</td>\n",
       "      <td>Laboratory-confirmed case</td>\n",
       "      <td>Male</td>\n",
       "      <td>10 - 19 Years</td>\n",
       "      <td>White, Non-Hispanic</td>\n",
       "      <td>No</td>\n",
       "      <td>No</td>\n",
       "      <td>No</td>\n",
       "      <td>No</td>\n",
       "    </tr>\n",
       "    <tr>\n",
       "      <th>...</th>\n",
       "      <td>...</td>\n",
       "      <td>...</td>\n",
       "      <td>...</td>\n",
       "      <td>...</td>\n",
       "      <td>...</td>\n",
       "      <td>...</td>\n",
       "      <td>...</td>\n",
       "      <td>...</td>\n",
       "      <td>...</td>\n",
       "      <td>...</td>\n",
       "      <td>...</td>\n",
       "    </tr>\n",
       "    <tr>\n",
       "      <th>131455</th>\n",
       "      <td>2020-01-15</td>\n",
       "      <td>2020-05-05</td>\n",
       "      <td>2020-01-15</td>\n",
       "      <td>Laboratory-confirmed case</td>\n",
       "      <td>Male</td>\n",
       "      <td>50 - 59 Years</td>\n",
       "      <td>Hispanic/Latino</td>\n",
       "      <td>No</td>\n",
       "      <td>No</td>\n",
       "      <td>No</td>\n",
       "      <td>Yes</td>\n",
       "    </tr>\n",
       "    <tr>\n",
       "      <th>148902</th>\n",
       "      <td>2020-01-13</td>\n",
       "      <td>2020-11-16</td>\n",
       "      <td>2020-01-13</td>\n",
       "      <td>Laboratory-confirmed case</td>\n",
       "      <td>Female</td>\n",
       "      <td>50 - 59 Years</td>\n",
       "      <td>White, Non-Hispanic</td>\n",
       "      <td>No</td>\n",
       "      <td>No</td>\n",
       "      <td>No</td>\n",
       "      <td>Yes</td>\n",
       "    </tr>\n",
       "    <tr>\n",
       "      <th>126166</th>\n",
       "      <td>2020-01-13</td>\n",
       "      <td>2020-04-05</td>\n",
       "      <td>2020-01-13</td>\n",
       "      <td>Laboratory-confirmed case</td>\n",
       "      <td>Male</td>\n",
       "      <td>50 - 59 Years</td>\n",
       "      <td>White, Non-Hispanic</td>\n",
       "      <td>Yes</td>\n",
       "      <td>Yes</td>\n",
       "      <td>No</td>\n",
       "      <td>Yes</td>\n",
       "    </tr>\n",
       "    <tr>\n",
       "      <th>247930</th>\n",
       "      <td>2020-01-01</td>\n",
       "      <td>2020-07-14</td>\n",
       "      <td>2020-01-01</td>\n",
       "      <td>Laboratory-confirmed case</td>\n",
       "      <td>Female</td>\n",
       "      <td>60 - 69 Years</td>\n",
       "      <td>White, Non-Hispanic</td>\n",
       "      <td>No</td>\n",
       "      <td>No</td>\n",
       "      <td>No</td>\n",
       "      <td>Yes</td>\n",
       "    </tr>\n",
       "    <tr>\n",
       "      <th>25521</th>\n",
       "      <td>2020-01-01</td>\n",
       "      <td>2020-03-15</td>\n",
       "      <td>2020-01-01</td>\n",
       "      <td>Laboratory-confirmed case</td>\n",
       "      <td>Male</td>\n",
       "      <td>40 - 49 Years</td>\n",
       "      <td>Black, Non-Hispanic</td>\n",
       "      <td>Yes</td>\n",
       "      <td>Yes</td>\n",
       "      <td>No</td>\n",
       "      <td>No</td>\n",
       "    </tr>\n",
       "  </tbody>\n",
       "</table>\n",
       "<p>294946 rows × 11 columns</p>\n",
       "</div>"
      ],
      "text/plain": [
       "       cdc_report_dt pos_spec_dt   onset_dt             current_status  \\\n",
       "136388    2020-11-19  2020-11-19 2020-11-19  Laboratory-confirmed case   \n",
       "136212    2020-11-19  2020-11-18 2020-11-15              Probable Case   \n",
       "2193      2020-11-19  2020-11-19 2020-11-19  Laboratory-confirmed case   \n",
       "149933    2020-11-19  2020-11-23 2020-11-19  Laboratory-confirmed case   \n",
       "2195      2020-11-19  2020-11-19 2020-11-19  Laboratory-confirmed case   \n",
       "...              ...         ...        ...                        ...   \n",
       "131455    2020-01-15  2020-05-05 2020-01-15  Laboratory-confirmed case   \n",
       "148902    2020-01-13  2020-11-16 2020-01-13  Laboratory-confirmed case   \n",
       "126166    2020-01-13  2020-04-05 2020-01-13  Laboratory-confirmed case   \n",
       "247930    2020-01-01  2020-07-14 2020-01-01  Laboratory-confirmed case   \n",
       "25521     2020-01-01  2020-03-15 2020-01-01  Laboratory-confirmed case   \n",
       "\n",
       "           sex      age_group   race_and_ethnicity hosp_yn icu_yn death_yn  \\\n",
       "136388  Female  60 - 69 Years  White, Non-Hispanic     Yes     No       No   \n",
       "136212  Female  60 - 69 Years  White, Non-Hispanic      No     No       No   \n",
       "2193      Male  10 - 19 Years  White, Non-Hispanic      No     No       No   \n",
       "149933  Female  50 - 59 Years  White, Non-Hispanic      No     No       No   \n",
       "2195      Male  10 - 19 Years  White, Non-Hispanic      No     No       No   \n",
       "...        ...            ...                  ...     ...    ...      ...   \n",
       "131455    Male  50 - 59 Years      Hispanic/Latino      No     No       No   \n",
       "148902  Female  50 - 59 Years  White, Non-Hispanic      No     No       No   \n",
       "126166    Male  50 - 59 Years  White, Non-Hispanic     Yes    Yes       No   \n",
       "247930  Female  60 - 69 Years  White, Non-Hispanic      No     No       No   \n",
       "25521     Male  40 - 49 Years  Black, Non-Hispanic     Yes    Yes       No   \n",
       "\n",
       "       medcond_yn  \n",
       "136388        Yes  \n",
       "136212        Yes  \n",
       "2193           No  \n",
       "149933        Yes  \n",
       "2195           No  \n",
       "...           ...  \n",
       "131455        Yes  \n",
       "148902        Yes  \n",
       "126166        Yes  \n",
       "247930        Yes  \n",
       "25521          No  \n",
       "\n",
       "[294946 rows x 11 columns]"
      ]
     },
     "execution_count": 30,
     "metadata": {},
     "output_type": "execute_result"
    }
   ],
   "source": [
    "df_viz.sort_values(by='cdc_report_dt', ascending=False)"
   ]
  },
  {
   "cell_type": "code",
   "execution_count": 31,
   "metadata": {},
   "outputs": [],
   "source": [
    "df_viz['sex']=df_viz['sex'].replace('Other', np.nan)"
   ]
  },
  {
   "cell_type": "code",
   "execution_count": 32,
   "metadata": {},
   "outputs": [
    {
     "data": {
      "text/plain": [
       "Female    157155\n",
       "Male      137754\n",
       "Name: sex, dtype: int64"
      ]
     },
     "execution_count": 32,
     "metadata": {},
     "output_type": "execute_result"
    }
   ],
   "source": [
    "df_viz['sex'].value_counts()"
   ]
  },
  {
   "cell_type": "code",
   "execution_count": 59,
   "metadata": {},
   "outputs": [
    {
     "data": {
      "image/png": "[encoded data removed]",
      "text/plain": [
       "<Figure size 504x360 with 1 Axes>"
      ]
     },
     "metadata": {
      "needs_background": "light"
     },
     "output_type": "display_data"
    }
   ],
   "source": [
    "#seaborn countplot showing distribution of race and ethnicity\n",
    "plt.figure(figsize=[7,5]);\n",
    "\n",
    "tick_range1 = np.arange(0,150000+25000,25000)\n",
    "base_color = sns.color_palette()[0]\n",
    "sns.countplot(data=df_viz, y='race_and_ethnicity', color=base_color);\n",
    "plt.xticks(tick_range1);"
   ]
  },
  {
   "cell_type": "code",
   "execution_count": 33,
   "metadata": {},
   "outputs": [
    {
     "data": {
      "text/plain": [
       "['0.0%',\n",
       " '2.0%',\n",
       " '4.0%',\n",
       " '6.0%',\n",
       " '8.0%',\n",
       " '10.0%',\n",
       " '12.0%',\n",
       " '14.0%',\n",
       " '16.0%',\n",
       " '18.0%']"
      ]
     },
     "execution_count": 33,
     "metadata": {},
     "output_type": "execute_result"
    }
   ],
   "source": [
    "type_counts=df_viz['age_group'].value_counts()\n",
    "num_group = type_counts.sum()\n",
    "max_age = type_counts[0]\n",
    "max_prop = max_age / num_group\n",
    "\n",
    "tick_range2 = np.arange(0, max_prop+0.02, 0.02)\n",
    "ticks2 = ['{:0.1%}'.format(x) for x in tick_range2]\n",
    "ticks2"
   ]
  },
  {
   "cell_type": "code",
   "execution_count": 35,
   "metadata": {},
   "outputs": [
    {
     "data": {
      "image/png": "[encoded data removed]",
      "text/plain": [
       "<Figure size 576x576 with 1 Axes>"
      ]
     },
     "metadata": {
      "needs_background": "light"
     },
     "output_type": "display_data"
    }
   ],
   "source": [
    "#seaborn countplot showing distribution of age_group\n",
    "type_counts=df_viz['age_group'].value_counts()\n",
    "num_group = type_counts.sum()\n",
    "max_age = type_counts[0]\n",
    "max_prop = max_age / num_group\n",
    "\n",
    "tick_range2 = np.arange(0, max_prop+0.02, 0.02)\n",
    "ticks2 = ['{:0.1%}'.format(x) for x in tick_range2]\n",
    "\n",
    "plt.figure(figsize=[8,8]);\n",
    "\n",
    "sns.countplot(data=df_viz, y='age_group', color=base_color);\n",
    "plt.xlabel('Percentage')\n",
    "plt.xticks(tick_range2*num_group, ticks2);"
   ]
  },
  {
   "cell_type": "code",
   "execution_count": 48,
   "metadata": {},
   "outputs": [
    {
     "data": {
      "image/png": "[encoded data removed]",
      "text/plain": [
       "<Figure size 576x576 with 1 Axes>"
      ]
     },
     "metadata": {
      "needs_background": "light"
     },
     "output_type": "display_data"
    }
   ],
   "source": [
    "#seaborn countplot showing distribution of sex\n",
    "\n",
    "plt.figure(figsize=[8,8]);\n",
    "\n",
    "sns.countplot(data=df_viz, y='sex', color=base_color);"
   ]
  },
  {
   "cell_type": "code",
   "execution_count": 41,
   "metadata": {},
   "outputs": [
    {
     "data": {
      "image/png": "[encoded data removed]",
      "text/plain": [
       "<Figure size 576x360 with 1 Axes>"
      ]
     },
     "metadata": {
      "needs_background": "light"
     },
     "output_type": "display_data"
    }
   ],
   "source": [
    "plt.figure(figsize=[8,5])\n",
    "\n",
    "sns.countplot(y='age_group', hue=\"sex\",\n",
    "            palette=\"pastel\", edgecolor=\".6\",\n",
    "            data=df_viz);"
   ]
  },
  {
   "cell_type": "code",
   "execution_count": 43,
   "metadata": {},
   "outputs": [
    {
     "data": {
      "image/png": "[encoded data removed]",
      "text/plain": [
       "<Figure size 1152x720 with 1 Axes>"
      ]
     },
     "metadata": {
      "needs_background": "light"
     },
     "output_type": "display_data"
    }
   ],
   "source": [
    "plt.figure(figsize=[16,10])\n",
    "\n",
    "sns.countplot(y='age_group', hue=\"race_and_ethnicity\",\n",
    "            palette=\"pastel\", edgecolor=\".6\",\n",
    "            data=df_viz);"
   ]
  },
  {
   "cell_type": "code",
   "execution_count": 65,
   "metadata": {},
   "outputs": [
    {
     "data": {
      "image/png": "[encoded data removed]",
      "text/plain": [
       "<Figure size 1440x720 with 2 Axes>"
      ]
     },
     "metadata": {
      "needs_background": "light"
     },
     "output_type": "display_data"
    }
   ],
   "source": [
    "plt.figure(figsize=[20,10])\n",
    "\n",
    "\n",
    "plt.subplot(1,2,1)\n",
    "log_ticks=[10, 30, 100, 300, 1000, 3000, 10000]\n",
    "sns.countplot(y='age_group', hue=\"death_yn\",\n",
    "            palette=\"pastel\", edgecolor=\".6\",\n",
    "            data=df_viz);\n",
    "plt.xscale('log')\n",
    "plt.xticks(log_ticks, log_ticks);\n",
    "plt.title('Logarithmic Distribution')\n",
    "\n",
    "plt.subplot(1,2,2)\n",
    "sns.countplot(y='age_group', hue=\"death_yn\",\n",
    "            palette=\"pastel\", edgecolor=\".6\",\n",
    "            data=df_viz);\n",
    "plt.title('Linear Distribution');"
   ]
  },
  {
   "cell_type": "code",
   "execution_count": 64,
   "metadata": {},
   "outputs": [
    {
     "data": {
      "image/png": "[encoded data removed]",
      "text/plain": [
       "<Figure size 1152x864 with 2 Axes>"
      ]
     },
     "metadata": {
      "needs_background": "light"
     },
     "output_type": "display_data"
    }
   ],
   "source": [
    "plt.figure(figsize=[16,12])\n",
    "\n",
    "plt.subplot(2,1,1)\n",
    "log_ticks2=[30, 100, 300, 1000, 3000, 10000, 30000, 100000]\n",
    "sns.countplot(y='race_and_ethnicity', hue=\"death_yn\",\n",
    "            palette=\"pastel\", edgecolor=\".6\",\n",
    "            data=df_viz);\n",
    "plt.xscale('log')\n",
    "plt.title('Logarithmic Distribution')\n",
    "plt.xticks(log_ticks2, log_ticks2);\n",
    "\n",
    "plt.subplot(2,1,2)\n",
    "plt.title('Linear Distribution')\n",
    "sns.countplot(y='race_and_ethnicity', hue=\"death_yn\",\n",
    "            palette=\"pastel\", edgecolor=\".6\",\n",
    "            data=df_viz);"
   ]
  },
  {
   "cell_type": "code",
   "execution_count": 78,
   "metadata": {},
   "outputs": [],
   "source": [
    "death_race = df_viz.query('death_yn == \"Yes\"')"
   ]
  },
  {
   "cell_type": "code",
   "execution_count": 90,
   "metadata": {},
   "outputs": [
    {
     "data": {
      "text/plain": [
       "White, Non-Hispanic                                     8066\n",
       "Black, Non-Hispanic                                     2281\n",
       "Hispanic/Latino                                         2106\n",
       "Asian, Non-Hispanic                                      574\n",
       "Multiple/Other, Non-Hispanic                             472\n",
       "American Indian/Alaska Native, Non-Hispanic              115\n",
       "Native Hawaiian/Other Pacific Islander, Non-Hispanic      80\n",
       "Name: race_and_ethnicity, dtype: int64"
      ]
     },
     "execution_count": 90,
     "metadata": {},
     "output_type": "execute_result"
    }
   ],
   "source": [
    "death_counts1 = death_race['race_and_ethnicity'].value_counts()\n",
    "death_counts1"
   ]
  },
  {
   "cell_type": "code",
   "execution_count": 91,
   "metadata": {},
   "outputs": [
    {
     "data": {
      "text/plain": [
       "80+ Years        5102\n",
       "70 - 79 Years    3354\n",
       "60 - 69 Years    2726\n",
       "50 - 59 Years    1565\n",
       "40 - 49 Years     580\n",
       "30 - 39 Years     234\n",
       "20 - 29 Years      93\n",
       "10 - 19 Years      30\n",
       "0 - 9 Years        10\n",
       "Name: age_group, dtype: int64"
      ]
     },
     "execution_count": 91,
     "metadata": {},
     "output_type": "execute_result"
    }
   ],
   "source": [
    "death_counts2 = death_race['age_group'].value_counts()\n",
    "death_counts2"
   ]
  },
  {
   "cell_type": "code",
   "execution_count": 81,
   "metadata": {},
   "outputs": [
    {
     "data": {
      "text/plain": [
       "White, Non-Hispanic                                     165999\n",
       "Hispanic/Latino                                          76584\n",
       "Black, Non-Hispanic                                      31370\n",
       "Asian, Non-Hispanic                                       9440\n",
       "Multiple/Other, Non-Hispanic                              7964\n",
       "Native Hawaiian/Other Pacific Islander, Non-Hispanic      2316\n",
       "American Indian/Alaska Native, Non-Hispanic               1273\n",
       "Name: race_and_ethnicity, dtype: int64"
      ]
     },
     "execution_count": 81,
     "metadata": {},
     "output_type": "execute_result"
    }
   ],
   "source": [
    "race_counts = df_viz['race_and_ethnicity'].value_counts()\n",
    "race_counts"
   ]
  },
  {
   "cell_type": "code",
   "execution_count": 94,
   "metadata": {},
   "outputs": [
    {
     "data": {
      "text/plain": [
       "20 - 29 Years    53050\n",
       "50 - 59 Years    45814\n",
       "30 - 39 Years    45179\n",
       "40 - 49 Years    45010\n",
       "60 - 69 Years    35042\n",
       "10 - 19 Years    27154\n",
       "70 - 79 Years    20834\n",
       "80+ Years        14559\n",
       "0 - 9 Years       8304\n",
       "Name: age_group, dtype: int64"
      ]
     },
     "execution_count": 94,
     "metadata": {},
     "output_type": "execute_result"
    }
   ],
   "source": [
    "age_counts = df_viz['age_group'].value_counts()\n",
    "age_counts"
   ]
  },
  {
   "cell_type": "code",
   "execution_count": 116,
   "metadata": {},
   "outputs": [
    {
     "data": {
      "text/html": [
       "<div>\n",
       "<style scoped>\n",
       "    .dataframe tbody tr th:only-of-type {\n",
       "        vertical-align: middle;\n",
       "    }\n",
       "\n",
       "    .dataframe tbody tr th {\n",
       "        vertical-align: top;\n",
       "    }\n",
       "\n",
       "    .dataframe thead th {\n",
       "        text-align: right;\n",
       "    }\n",
       "</style>\n",
       "<table border=\"1\" class=\"dataframe\">\n",
       "  <thead>\n",
       "    <tr style=\"text-align: right;\">\n",
       "      <th></th>\n",
       "      <th>index</th>\n",
       "      <th>race_and_ethnicity</th>\n",
       "    </tr>\n",
       "  </thead>\n",
       "  <tbody>\n",
       "    <tr>\n",
       "      <th>0</th>\n",
       "      <td>American Indian/Alaska Native, Non-Hispanic</td>\n",
       "      <td>9.033778</td>\n",
       "    </tr>\n",
       "    <tr>\n",
       "      <th>1</th>\n",
       "      <td>Asian, Non-Hispanic</td>\n",
       "      <td>6.080508</td>\n",
       "    </tr>\n",
       "    <tr>\n",
       "      <th>2</th>\n",
       "      <td>Black, Non-Hispanic</td>\n",
       "      <td>7.271278</td>\n",
       "    </tr>\n",
       "    <tr>\n",
       "      <th>3</th>\n",
       "      <td>Hispanic/Latino</td>\n",
       "      <td>2.749922</td>\n",
       "    </tr>\n",
       "    <tr>\n",
       "      <th>4</th>\n",
       "      <td>Multiple/Other, Non-Hispanic</td>\n",
       "      <td>5.926670</td>\n",
       "    </tr>\n",
       "    <tr>\n",
       "      <th>5</th>\n",
       "      <td>Native Hawaiian/Other Pacific Islander, Non-Hi...</td>\n",
       "      <td>3.454231</td>\n",
       "    </tr>\n",
       "    <tr>\n",
       "      <th>6</th>\n",
       "      <td>White, Non-Hispanic</td>\n",
       "      <td>4.859065</td>\n",
       "    </tr>\n",
       "  </tbody>\n",
       "</table>\n",
       "</div>"
      ],
      "text/plain": [
       "                                               index  race_and_ethnicity\n",
       "0        American Indian/Alaska Native, Non-Hispanic            9.033778\n",
       "1                                Asian, Non-Hispanic            6.080508\n",
       "2                                Black, Non-Hispanic            7.271278\n",
       "3                                    Hispanic/Latino            2.749922\n",
       "4                       Multiple/Other, Non-Hispanic            5.926670\n",
       "5  Native Hawaiian/Other Pacific Islander, Non-Hi...            3.454231\n",
       "6                                White, Non-Hispanic            4.859065"
      ]
     },
     "execution_count": 116,
     "metadata": {},
     "output_type": "execute_result"
    }
   ],
   "source": [
    "proportion_race = (death_counts1 / race_counts)*100\n",
    "proportion_race = proportion_race.reset_index()\n",
    "proportion_race"
   ]
  },
  {
   "cell_type": "code",
   "execution_count": 117,
   "metadata": {},
   "outputs": [],
   "source": [
    "proportion_race = proportion_race.rename(columns={'index':'race_and_ethnicity', 'race_and_ethnicity':'death_percentage'})"
   ]
  },
  {
   "cell_type": "code",
   "execution_count": 118,
   "metadata": {},
   "outputs": [
    {
     "data": {
      "text/html": [
       "<div>\n",
       "<style scoped>\n",
       "    .dataframe tbody tr th:only-of-type {\n",
       "        vertical-align: middle;\n",
       "    }\n",
       "\n",
       "    .dataframe tbody tr th {\n",
       "        vertical-align: top;\n",
       "    }\n",
       "\n",
       "    .dataframe thead th {\n",
       "        text-align: right;\n",
       "    }\n",
       "</style>\n",
       "<table border=\"1\" class=\"dataframe\">\n",
       "  <thead>\n",
       "    <tr style=\"text-align: right;\">\n",
       "      <th></th>\n",
       "      <th>race_and_ethnicity</th>\n",
       "      <th>death_percentage</th>\n",
       "    </tr>\n",
       "  </thead>\n",
       "  <tbody>\n",
       "    <tr>\n",
       "      <th>0</th>\n",
       "      <td>American Indian/Alaska Native, Non-Hispanic</td>\n",
       "      <td>9.033778</td>\n",
       "    </tr>\n",
       "    <tr>\n",
       "      <th>1</th>\n",
       "      <td>Asian, Non-Hispanic</td>\n",
       "      <td>6.080508</td>\n",
       "    </tr>\n",
       "    <tr>\n",
       "      <th>2</th>\n",
       "      <td>Black, Non-Hispanic</td>\n",
       "      <td>7.271278</td>\n",
       "    </tr>\n",
       "    <tr>\n",
       "      <th>3</th>\n",
       "      <td>Hispanic/Latino</td>\n",
       "      <td>2.749922</td>\n",
       "    </tr>\n",
       "    <tr>\n",
       "      <th>4</th>\n",
       "      <td>Multiple/Other, Non-Hispanic</td>\n",
       "      <td>5.926670</td>\n",
       "    </tr>\n",
       "    <tr>\n",
       "      <th>5</th>\n",
       "      <td>Native Hawaiian/Other Pacific Islander, Non-Hi...</td>\n",
       "      <td>3.454231</td>\n",
       "    </tr>\n",
       "    <tr>\n",
       "      <th>6</th>\n",
       "      <td>White, Non-Hispanic</td>\n",
       "      <td>4.859065</td>\n",
       "    </tr>\n",
       "  </tbody>\n",
       "</table>\n",
       "</div>"
      ],
      "text/plain": [
       "                                  race_and_ethnicity  death_percentage\n",
       "0        American Indian/Alaska Native, Non-Hispanic          9.033778\n",
       "1                                Asian, Non-Hispanic          6.080508\n",
       "2                                Black, Non-Hispanic          7.271278\n",
       "3                                    Hispanic/Latino          2.749922\n",
       "4                       Multiple/Other, Non-Hispanic          5.926670\n",
       "5  Native Hawaiian/Other Pacific Islander, Non-Hi...          3.454231\n",
       "6                                White, Non-Hispanic          4.859065"
      ]
     },
     "execution_count": 118,
     "metadata": {},
     "output_type": "execute_result"
    }
   ],
   "source": [
    "proportion_race"
   ]
  },
  {
   "cell_type": "code",
   "execution_count": 107,
   "metadata": {},
   "outputs": [
    {
     "data": {
      "text/html": [
       "<div>\n",
       "<style scoped>\n",
       "    .dataframe tbody tr th:only-of-type {\n",
       "        vertical-align: middle;\n",
       "    }\n",
       "\n",
       "    .dataframe tbody tr th {\n",
       "        vertical-align: top;\n",
       "    }\n",
       "\n",
       "    .dataframe thead th {\n",
       "        text-align: right;\n",
       "    }\n",
       "</style>\n",
       "<table border=\"1\" class=\"dataframe\">\n",
       "  <thead>\n",
       "    <tr style=\"text-align: right;\">\n",
       "      <th></th>\n",
       "      <th>index</th>\n",
       "      <th>age_group</th>\n",
       "    </tr>\n",
       "  </thead>\n",
       "  <tbody>\n",
       "    <tr>\n",
       "      <th>0</th>\n",
       "      <td>0 - 9 Years</td>\n",
       "      <td>0.120424</td>\n",
       "    </tr>\n",
       "    <tr>\n",
       "      <th>1</th>\n",
       "      <td>10 - 19 Years</td>\n",
       "      <td>0.110481</td>\n",
       "    </tr>\n",
       "    <tr>\n",
       "      <th>2</th>\n",
       "      <td>20 - 29 Years</td>\n",
       "      <td>0.175306</td>\n",
       "    </tr>\n",
       "    <tr>\n",
       "      <th>3</th>\n",
       "      <td>30 - 39 Years</td>\n",
       "      <td>0.517940</td>\n",
       "    </tr>\n",
       "    <tr>\n",
       "      <th>4</th>\n",
       "      <td>40 - 49 Years</td>\n",
       "      <td>1.288603</td>\n",
       "    </tr>\n",
       "    <tr>\n",
       "      <th>5</th>\n",
       "      <td>50 - 59 Years</td>\n",
       "      <td>3.415986</td>\n",
       "    </tr>\n",
       "    <tr>\n",
       "      <th>6</th>\n",
       "      <td>60 - 69 Years</td>\n",
       "      <td>7.779236</td>\n",
       "    </tr>\n",
       "    <tr>\n",
       "      <th>7</th>\n",
       "      <td>70 - 79 Years</td>\n",
       "      <td>16.098685</td>\n",
       "    </tr>\n",
       "    <tr>\n",
       "      <th>8</th>\n",
       "      <td>80+ Years</td>\n",
       "      <td>35.043616</td>\n",
       "    </tr>\n",
       "  </tbody>\n",
       "</table>\n",
       "</div>"
      ],
      "text/plain": [
       "           index  age_group\n",
       "0    0 - 9 Years   0.120424\n",
       "1  10 - 19 Years   0.110481\n",
       "2  20 - 29 Years   0.175306\n",
       "3  30 - 39 Years   0.517940\n",
       "4  40 - 49 Years   1.288603\n",
       "5  50 - 59 Years   3.415986\n",
       "6  60 - 69 Years   7.779236\n",
       "7  70 - 79 Years  16.098685\n",
       "8      80+ Years  35.043616"
      ]
     },
     "execution_count": 107,
     "metadata": {},
     "output_type": "execute_result"
    }
   ],
   "source": [
    "proportion_age = (death_counts2/ age_counts)*100\n",
    "proportion_age = proportion_age.reset_index()\n",
    "proportion_age"
   ]
  },
  {
   "cell_type": "code",
   "execution_count": 108,
   "metadata": {},
   "outputs": [],
   "source": [
    "for x in proportion_age.columns:\n",
    "    if x == 'index':\n",
    "        proportion_age = proportion_age.rename(columns={x:'age_group1'})\n",
    "    else:\n",
    "        proportion_age = proportion_age.rename(columns={x:'death_percentage'})"
   ]
  },
  {
   "cell_type": "code",
   "execution_count": 109,
   "metadata": {},
   "outputs": [
    {
     "data": {
      "text/html": [
       "<div>\n",
       "<style scoped>\n",
       "    .dataframe tbody tr th:only-of-type {\n",
       "        vertical-align: middle;\n",
       "    }\n",
       "\n",
       "    .dataframe tbody tr th {\n",
       "        vertical-align: top;\n",
       "    }\n",
       "\n",
       "    .dataframe thead th {\n",
       "        text-align: right;\n",
       "    }\n",
       "</style>\n",
       "<table border=\"1\" class=\"dataframe\">\n",
       "  <thead>\n",
       "    <tr style=\"text-align: right;\">\n",
       "      <th></th>\n",
       "      <th>age_group1</th>\n",
       "      <th>death_percentage</th>\n",
       "    </tr>\n",
       "  </thead>\n",
       "  <tbody>\n",
       "    <tr>\n",
       "      <th>0</th>\n",
       "      <td>0 - 9 Years</td>\n",
       "      <td>0.120424</td>\n",
       "    </tr>\n",
       "    <tr>\n",
       "      <th>1</th>\n",
       "      <td>10 - 19 Years</td>\n",
       "      <td>0.110481</td>\n",
       "    </tr>\n",
       "    <tr>\n",
       "      <th>2</th>\n",
       "      <td>20 - 29 Years</td>\n",
       "      <td>0.175306</td>\n",
       "    </tr>\n",
       "    <tr>\n",
       "      <th>3</th>\n",
       "      <td>30 - 39 Years</td>\n",
       "      <td>0.517940</td>\n",
       "    </tr>\n",
       "    <tr>\n",
       "      <th>4</th>\n",
       "      <td>40 - 49 Years</td>\n",
       "      <td>1.288603</td>\n",
       "    </tr>\n",
       "    <tr>\n",
       "      <th>5</th>\n",
       "      <td>50 - 59 Years</td>\n",
       "      <td>3.415986</td>\n",
       "    </tr>\n",
       "    <tr>\n",
       "      <th>6</th>\n",
       "      <td>60 - 69 Years</td>\n",
       "      <td>7.779236</td>\n",
       "    </tr>\n",
       "    <tr>\n",
       "      <th>7</th>\n",
       "      <td>70 - 79 Years</td>\n",
       "      <td>16.098685</td>\n",
       "    </tr>\n",
       "    <tr>\n",
       "      <th>8</th>\n",
       "      <td>80+ Years</td>\n",
       "      <td>35.043616</td>\n",
       "    </tr>\n",
       "  </tbody>\n",
       "</table>\n",
       "</div>"
      ],
      "text/plain": [
       "      age_group1  death_percentage\n",
       "0    0 - 9 Years          0.120424\n",
       "1  10 - 19 Years          0.110481\n",
       "2  20 - 29 Years          0.175306\n",
       "3  30 - 39 Years          0.517940\n",
       "4  40 - 49 Years          1.288603\n",
       "5  50 - 59 Years          3.415986\n",
       "6  60 - 69 Years          7.779236\n",
       "7  70 - 79 Years         16.098685\n",
       "8      80+ Years         35.043616"
      ]
     },
     "execution_count": 109,
     "metadata": {},
     "output_type": "execute_result"
    }
   ],
   "source": [
    "proportion_age"
   ]
  },
  {
   "cell_type": "code",
   "execution_count": 124,
   "metadata": {},
   "outputs": [
    {
     "data": {
      "image/png": "[encoded data removed]",
      "text/plain": [
       "<Figure size 432x288 with 1 Axes>"
      ]
     },
     "metadata": {
      "needs_background": "light"
     },
     "output_type": "display_data"
    }
   ],
   "source": [
    "sns.barplot(data=proportion_age, y='age_group1', x='death_percentage', color=base_color);"
   ]
  },
  {
   "cell_type": "code",
   "execution_count": 125,
   "metadata": {},
   "outputs": [
    {
     "data": {
      "image/png": "[encoded data removed]",
      "text/plain": [
       "<Figure size 432x288 with 1 Axes>"
      ]
     },
     "metadata": {
      "needs_background": "light"
     },
     "output_type": "display_data"
    }
   ],
   "source": [
    "sns.barplot(data=proportion_race, y='race_and_ethnicity', x='death_percentage', color=base_color);"
   ]
  },
  {
   "cell_type": "code",
   "execution_count": null,
   "metadata": {},
   "outputs": [],
   "source": []
  },
  {
   "cell_type": "code",
   "execution_count": null,
   "metadata": {},
   "outputs": [],
   "source": []
  },
  {
   "cell_type": "code",
   "execution_count": null,
   "metadata": {},
   "outputs": [],
   "source": []
  }
 ],
 "metadata": {
  "kernelspec": {
   "display_name": "Python 3",
   "language": "python",
   "name": "python3"
  },
  "language_info": {
   "codemirror_mode": {
    "name": "ipython",
    "version": 3
   },
   "file_extension": ".py",
   "mimetype": "text/x-python",
   "name": "python",
   "nbconvert_exporter": "python",
   "pygments_lexer": "ipython3",
   "version": "3.8.5"
  }
 },
 "nbformat": 4,
 "nbformat_minor": 4
}
